{
  "nbformat": 4,
  "nbformat_minor": 0,
  "metadata": {
    "colab": {
      "provenance": [],
      "authorship_tag": "ABX9TyMK6q2dMHMl64onFIH+5t3Q",
      "include_colab_link": true
    },
    "kernelspec": {
      "name": "python3",
      "display_name": "Python 3"
    },
    "language_info": {
      "name": "python"
    }
  },
  "cells": [
    {
      "cell_type": "markdown",
      "metadata": {
        "id": "view-in-github",
        "colab_type": "text"
      },
      "source": [
        "<a href=\"https://colab.research.google.com/github/lian0408/c_sharp0316/blob/master/insertion_sort.ipynb\" target=\"_parent\"><img src=\"https://colab.research.google.com/assets/colab-badge.svg\" alt=\"Open In Colab\"/></a>"
      ]
    },
    {
      "cell_type": "code",
      "execution_count": 4,
      "metadata": {
        "colab": {
          "base_uri": "https://localhost:8080/"
        },
        "id": "z_m6Rs_efPik",
        "outputId": "b40592fa-a050-446b-91b2-ebc834856e95"
      },
      "outputs": [
        {
          "output_type": "stream",
          "name": "stdout",
          "text": [
            "New insertion sort:\n",
            "[0, 1, 2, 2, 3, 5, 7, 9]\n"
          ]
        }
      ],
      "source": [
        "def Sort(array):\n",
        "\n",
        "    for step in range(1, len(array)):\n",
        "        key = array[step]\n",
        "        j = step - 1\n",
        "       \n",
        "        while j >= 0 and key < array[j]:\n",
        "            array[j + 1] = array[j]\n",
        "            j = j - 1\n",
        "        \n",
        "      \n",
        "        array[j + 1] = key\n",
        "data = [5,3,2,1,2,0,9,7]\n",
        "Sort(data)\n",
        "print('New insertion sort:')\n",
        "print(data)"
      ]
    }
  ]
}